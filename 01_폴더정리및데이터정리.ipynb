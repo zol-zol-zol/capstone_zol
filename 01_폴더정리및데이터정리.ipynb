{
 "cells": [
  {
   "cell_type": "code",
   "execution_count": null,
   "metadata": {},
   "outputs": [],
   "source": [
    "import json\n",
    "import glob\n",
    "import shutil\n",
    "import os \n",
    "import warnings\n",
    "warnings.filterwarnings('ignore')\n",
    "import pandas as pd"
   ]
  },
  {
   "cell_type": "code",
   "execution_count": null,
   "metadata": {},
   "outputs": [],
   "source": [
    "import torch"
   ]
  },
  {
   "cell_type": "code",
   "execution_count": 27,
   "metadata": {},
   "outputs": [
    {
     "data": {
      "text/plain": [
       "1335"
      ]
     },
     "execution_count": 27,
     "metadata": {},
     "output_type": "execute_result"
    }
   ],
   "source": [
    "conditions = glob.glob('./data/*.json')\n",
    "len(conditions)"
   ]
  },
  {
   "cell_type": "code",
   "execution_count": 25,
   "metadata": {},
   "outputs": [],
   "source": [
    "# 파일 폴더 정리하기 \n",
    "file_paths = glob.glob('/Users/minnnnji/캡스톤/data/주간/우천/실증/*.json')\n",
    "\n",
    "for file in file_paths:\n",
    "    if os.path.exists('./data/' + file.split('/')[-1]):\n",
    "        pass\n",
    "    else:\n",
    "        shutil.move(file, \"./data\")"
   ]
  },
  {
   "cell_type": "code",
   "execution_count": 32,
   "metadata": {},
   "outputs": [
    {
     "data": {
      "text/plain": [
       "'S000113'"
      ]
     },
     "execution_count": 32,
     "metadata": {},
     "output_type": "execute_result"
    }
   ],
   "source": [
    "file_name = conditions[0].split('/')[-1].split('_')[0]\n",
    "file_name"
   ]
  },
  {
   "cell_type": "code",
   "execution_count": 76,
   "metadata": {},
   "outputs": [
    {
     "name": "stdout",
     "output_type": "stream",
     "text": [
      "Before Video cnt = 201\n",
      "After Video cnt = 201\n",
      "Before 498\n",
      "After 498\n"
     ]
    }
   ],
   "source": [
    "# 파일 개수 제한하기 \n",
    "# 01. 비디오 개수 가져오기\n",
    "l = []\n",
    "for c in conditions:\n",
    "    video_name = c.split('/')[-1].split('_')[0]\n",
    "    if video_name not in l:\n",
    "        l.append(video_name)\n",
    "# 02. 비디오 70% 만 쓰기\n",
    "print(\"Before Video cnt =\", len(l))\n",
    "subset = int(len(l) * 0.7) # 70%만 쓸 때\n",
    "l = l[:subset]\n",
    "print(\"After Video cnt =\",len(l))\n",
    "\n",
    "# 03. 30%에 해당하는 데이터 삭제하기 (이거 일단은 옮겨두는 방식으로 진행할듯 )\n",
    "conditions = glob.glob('./data/*.json')\n",
    "print(f\"Before {len(conditions)}\")\n",
    "\n",
    "directory = './data/tmp' # 옮겨둘 폴더\n",
    "for i, file in enumerate(conditions):\n",
    "    video_name = file.split('/')[-1].split('_')[0]\n",
    "    # print(i, end= ' / ')\n",
    "    if video_name not in l:\n",
    "        # os.remove(file) # 삭제\n",
    "        if not os.path.exists(directory):\n",
    "            os.makedirs(directory)\n",
    "        shutil.move(file, directory) # 옮기기\n",
    "        \n",
    "conditions = glob.glob('./data/*.json')\n",
    "print(f\"After {len(conditions)}\")"
   ]
  },
  {
   "cell_type": "code",
   "execution_count": 74,
   "metadata": {},
   "outputs": [
    {
     "data": {
      "text/html": [
       "<div>\n",
       "<style scoped>\n",
       "    .dataframe tbody tr th:only-of-type {\n",
       "        vertical-align: middle;\n",
       "    }\n",
       "\n",
       "    .dataframe tbody tr th {\n",
       "        vertical-align: top;\n",
       "    }\n",
       "\n",
       "    .dataframe thead th {\n",
       "        text-align: right;\n",
       "    }\n",
       "</style>\n",
       "<table border=\"1\" class=\"dataframe\">\n",
       "  <thead>\n",
       "    <tr style=\"text-align: right;\">\n",
       "      <th></th>\n",
       "      <th>clip_name</th>\n",
       "      <th>pm_code</th>\n",
       "      <th>left</th>\n",
       "      <th>bottom</th>\n",
       "      <th>width</th>\n",
       "      <th>height</th>\n",
       "    </tr>\n",
       "  </thead>\n",
       "  <tbody>\n",
       "    <tr>\n",
       "      <th>0</th>\n",
       "      <td>S000113_065_0270_C_D_F_0</td>\n",
       "      <td>14</td>\n",
       "      <td>1560.0</td>\n",
       "      <td>267.0</td>\n",
       "      <td>79.0</td>\n",
       "      <td>71.0</td>\n",
       "    </tr>\n",
       "    <tr>\n",
       "      <th>1</th>\n",
       "      <td>S000113_065_0270_C_D_F_0</td>\n",
       "      <td>19</td>\n",
       "      <td>706.0</td>\n",
       "      <td>263.0</td>\n",
       "      <td>45.0</td>\n",
       "      <td>84.0</td>\n",
       "    </tr>\n",
       "    <tr>\n",
       "      <th>2</th>\n",
       "      <td>S000113_065_0270_C_D_F_0</td>\n",
       "      <td>19</td>\n",
       "      <td>897.0</td>\n",
       "      <td>271.0</td>\n",
       "      <td>45.0</td>\n",
       "      <td>92.0</td>\n",
       "    </tr>\n",
       "    <tr>\n",
       "      <th>3</th>\n",
       "      <td>C000313_006_0100_C_D_F_0</td>\n",
       "      <td>13</td>\n",
       "      <td>364.0</td>\n",
       "      <td>472.0</td>\n",
       "      <td>184.0</td>\n",
       "      <td>159.0</td>\n",
       "    </tr>\n",
       "    <tr>\n",
       "      <th>4</th>\n",
       "      <td>S000753_052_0120_C_D_F_0</td>\n",
       "      <td>23</td>\n",
       "      <td>838.433332</td>\n",
       "      <td>277.17909</td>\n",
       "      <td>169.038298</td>\n",
       "      <td>181.185491</td>\n",
       "    </tr>\n",
       "    <tr>\n",
       "      <th>...</th>\n",
       "      <td>...</td>\n",
       "      <td>...</td>\n",
       "      <td>...</td>\n",
       "      <td>...</td>\n",
       "      <td>...</td>\n",
       "      <td>...</td>\n",
       "    </tr>\n",
       "    <tr>\n",
       "      <th>1289</th>\n",
       "      <td>S000655_047_0140_C_N_F_0</td>\n",
       "      <td>27</td>\n",
       "      <td>635.0</td>\n",
       "      <td>325.171732</td>\n",
       "      <td>95.0</td>\n",
       "      <td>107.828268</td>\n",
       "    </tr>\n",
       "    <tr>\n",
       "      <th>1290</th>\n",
       "      <td>S000556_029_0100_C_D_F_0</td>\n",
       "      <td>20</td>\n",
       "      <td>1612.0</td>\n",
       "      <td>609.0</td>\n",
       "      <td>258.0</td>\n",
       "      <td>235.0</td>\n",
       "    </tr>\n",
       "    <tr>\n",
       "      <th>1291</th>\n",
       "      <td>S000556_029_0100_C_D_F_0</td>\n",
       "      <td>20</td>\n",
       "      <td>825.644487</td>\n",
       "      <td>508.023358</td>\n",
       "      <td>129.487505</td>\n",
       "      <td>166.373622</td>\n",
       "    </tr>\n",
       "    <tr>\n",
       "      <th>1292</th>\n",
       "      <td>F000084_000_1565_C_D_F_1</td>\n",
       "      <td>18</td>\n",
       "      <td>817.937062</td>\n",
       "      <td>508.023358</td>\n",
       "      <td>140.277901</td>\n",
       "      <td>206.42537</td>\n",
       "    </tr>\n",
       "    <tr>\n",
       "      <th>1293</th>\n",
       "      <td>F000067_000_6675_C_D_F_1</td>\n",
       "      <td>14</td>\n",
       "      <td>778.204134</td>\n",
       "      <td>303.72693</td>\n",
       "      <td>25.808504</td>\n",
       "      <td>51.728657</td>\n",
       "    </tr>\n",
       "  </tbody>\n",
       "</table>\n",
       "<p>1294 rows × 6 columns</p>\n",
       "</div>"
      ],
      "text/plain": [
       "                     clip_name pm_code        left      bottom       width  \\\n",
       "0     S000113_065_0270_C_D_F_0      14      1560.0       267.0        79.0   \n",
       "1     S000113_065_0270_C_D_F_0      19       706.0       263.0        45.0   \n",
       "2     S000113_065_0270_C_D_F_0      19       897.0       271.0        45.0   \n",
       "3     C000313_006_0100_C_D_F_0      13       364.0       472.0       184.0   \n",
       "4     S000753_052_0120_C_D_F_0      23  838.433332   277.17909  169.038298   \n",
       "...                        ...     ...         ...         ...         ...   \n",
       "1289  S000655_047_0140_C_N_F_0      27       635.0  325.171732        95.0   \n",
       "1290  S000556_029_0100_C_D_F_0      20      1612.0       609.0       258.0   \n",
       "1291  S000556_029_0100_C_D_F_0      20  825.644487  508.023358  129.487505   \n",
       "1292  F000084_000_1565_C_D_F_1      18  817.937062  508.023358  140.277901   \n",
       "1293  F000067_000_6675_C_D_F_1      14  778.204134   303.72693   25.808504   \n",
       "\n",
       "          height  \n",
       "0           71.0  \n",
       "1           84.0  \n",
       "2           92.0  \n",
       "3          159.0  \n",
       "4     181.185491  \n",
       "...          ...  \n",
       "1289  107.828268  \n",
       "1290       235.0  \n",
       "1291  166.373622  \n",
       "1292   206.42537  \n",
       "1293   51.728657  \n",
       "\n",
       "[1294 rows x 6 columns]"
      ]
     },
     "execution_count": 74,
     "metadata": {},
     "output_type": "execute_result"
    }
   ],
   "source": [
    "# PM 정보 따기 \n",
    "data = pd.DataFrame(columns=['clip_name', 'pm_code', 'left', 'bottom', 'width', 'height'])\n",
    "\n",
    "for file in conditions:\n",
    "\n",
    "    with open(file) as f:\n",
    "        json_object = json.load(f)\n",
    "    \n",
    "    clip_name = file.split('/')[-1].split('.')[0] # ex ) 'S000113_065_0270_C_D_F_0'\n",
    "    pm =json_object['annotations']['PM']\n",
    "\n",
    "    for p in pm:\n",
    "        pm_code = p['PM_code']\n",
    "        left, bottom, width, height = p['points'][0], p['points'][1], p['points'][2], p['points'][3]\n",
    "        item = [clip_name, pm_code, left, bottom, width, height]\n",
    "        data = data.append(pd.Series(item, index=data.columns), ignore_index=True)\n",
    "data\n"
   ]
  },
  {
   "cell_type": "code",
   "execution_count": 83,
   "metadata": {},
   "outputs": [],
   "source": []
  },
  {
   "cell_type": "code",
   "execution_count": 86,
   "metadata": {},
   "outputs": [
    {
     "data": {
      "text/plain": [
       "{'area_code': '1',\n",
       " 'shape_type': 'polygon',\n",
       " 'points': [[320.5797421317304, 343.1002810953359],\n",
       "  [316.84077517935333, 420.6679137958743],\n",
       "  [323.8513382150603, 459.4517301461435],\n",
       "  [337.87246428647444, 485.15184941439423],\n",
       "  [353.29570296502993, 482.34820003967604],\n",
       "  [381.8053259769052, 438.891634731543],\n",
       "  [400.9675316078378, 394.5005196318373],\n",
       "  [427.14030027447745, 326.2783848470264],\n",
       "  [512.3409430885142, 88.3542651404711],\n",
       "  [466.88297645698214, 63.46572858595468],\n",
       "  [423.5896749031422, 37.49508174645931],\n",
       "  [366.84945816739685, 207.59056131728693]]}"
      ]
     },
     "execution_count": 86,
     "metadata": {},
     "output_type": "execute_result"
    }
   ],
   "source": [
    "with open(conditions[1]) as f:\n",
    "    json_object = json.load(f)\n",
    "    \n",
    "env = json_object['annotations']['environment']\n",
    "env[0]"
   ]
  },
  {
   "cell_type": "code",
   "execution_count": 93,
   "metadata": {},
   "outputs": [
    {
     "data": {
      "text/plain": [
       "['./data/C000003_062_0048_C_N_F_0.json',\n",
       " './data/C000003_125_0100_C_N_F_0.json',\n",
       " './data/C000003_269_0056_C_N_F_0.json']"
      ]
     },
     "execution_count": 93,
     "metadata": {},
     "output_type": "execute_result"
    }
   ],
   "source": [
    "conditions.sort()\n",
    "conditions[:3]"
   ]
  },
  {
   "cell_type": "code",
   "execution_count": 94,
   "metadata": {},
   "outputs": [
    {
     "name": "stdout",
     "output_type": "stream",
     "text": [
      "C000003_062_0048_C_N_F_0.json C000003_125_0100_C_N_F_0.json\n"
     ]
    }
   ],
   "source": [
    "print(conditions[0].split('/')[-1],\n",
    "conditions[1].split('/')[-1])\n"
   ]
  },
  {
   "cell_type": "code",
   "execution_count": 99,
   "metadata": {},
   "outputs": [
    {
     "data": {
      "text/plain": [
       "10"
      ]
     },
     "execution_count": 99,
     "metadata": {},
     "output_type": "execute_result"
    }
   ],
   "source": [
    "with open(conditions[0]) as f:\n",
    "    json_object = json.load(f)\n",
    "    \n",
    "env = json_object['annotations']['environment']\n",
    "len(env)"
   ]
  },
  {
   "cell_type": "code",
   "execution_count": 100,
   "metadata": {},
   "outputs": [
    {
     "data": {
      "text/plain": [
       "10"
      ]
     },
     "execution_count": 100,
     "metadata": {},
     "output_type": "execute_result"
    }
   ],
   "source": [
    "with open(conditions[1]) as f:\n",
    "    json_object = json.load(f)\n",
    "    \n",
    "env = json_object['annotations']['environment']\n",
    "len(env)"
   ]
  },
  {
   "cell_type": "code",
   "execution_count": 96,
   "metadata": {},
   "outputs": [
    {
     "name": "stdout",
     "output_type": "stream",
     "text": [
      "{'area_code': '1', 'shape_type': 'polygon', 'points': [[1078.4571373469191, 918.7890839251544], [796.5382572408654, 1032.920781492944], [864.3287472188114, 1452.4318860664391], [594.7074802610716, 1438.551003929816], [363.6035371544376, 1421.5854813183878], [288.1095824062706, 1415.4162003687777], [298.8944330845801, 1537.25949912358], [320.4641344411992, 1583.5291062456565], [363.60353715443756, 1920.0063147516685], [1078.4571373469191, 1920.0063147516685]]}\n",
      "{'area_code': '2', 'shape_type': 'polygon', 'points': [[341.0741227996661, 322.4038075475527], [338.95244988973, 519.3281424378922], [358.98145829230486, 978.9395731838542], [369.76630897061443, 1151.6794397729404], [285.02819649818196, 1170.1872826217711], [268.0805740036956, 874.0617970404805], [268.0805740036956, 679.7294471277581], [268.0805740036956, 496.19333887685366]]}\n",
      "{'area_code': '4', 'shape_type': 'polygon', 'points': [[266.5398810496512, 506.9895805386719], [244.9701796930321, 511.61654125087955], [238.80740787685517, 491.56637816464615], [155.60998835846692, 790.7765042207424], [154.0692954044227, 881.7733982274933], [152.52860245037846, 980.4818934212568], [161.77276017464382, 1239.5916933048863], [194.12731220957258, 1231.8800921178736], [201.8307769797937, 1369.146593246701], [277.32473172796085, 1429.2970825054008], [268.08057400369546, 1344.4694694482603], [264.99918809560705, 1259.6418563911197], [283.4875035441377, 1171.7296028591738], [277.32473172796085, 1059.1402255287871], [268.08057400369546, 730.6260149620425]]}\n",
      "{'area_code': '5', 'shape_type': 'polygon', 'points': [[434.67121975785295, 282.68906143443735], [442.3746845280741, 294.25646321495645], [340.49314284377414, 531.6667043371126], [340.49314284377414, 500.82029958906156]]}\n",
      "{'area_code': '7', 'shape_type': 'polygon', 'points': [[422.1498694081181, 345.0459556114033], [502.2659030184138, 1108.4944731256692], [480.69620166179857, 1116.2060743126817], [411.36501872980455, 365.0961186976367]]}\n",
      "{'area_code': '8', 'shape_type': 'polygon', 'points': [[411.36501872980864, 378.97700083425946], [479.1555087077547, 1110.0367933630714], [371.3070019246587, 1151.6794397729404], [337.4117569356858, 553.2591876607485]]}\n",
      "{'area_code': '12', 'shape_type': 'polygon', 'points': [[76.34805849593842, 988.3274247880488], [93.60381958123376, 988.3274247880488], [94.83637394446914, 931.5700400516346], [80.66199876726226, 931.5700400516346]]}\n"
     ]
    }
   ],
   "source": [
    "for info in annotations['environment']:\n",
    "    print(info)"
   ]
  },
  {
   "cell_type": "code",
   "execution_count": 16,
   "metadata": {},
   "outputs": [
    {
     "data": {
      "text/plain": [
       "[{'PM_code': '13',\n",
       "  'shape_type': 'bbox',\n",
       "  'points': [1383.0, 300.0, 52.0, 109.00000000000001]}]"
      ]
     },
     "execution_count": 16,
     "metadata": {},
     "output_type": "execute_result"
    }
   ],
   "source": [
    "annotations['PM']"
   ]
  },
  {
   "cell_type": "code",
   "execution_count": null,
   "metadata": {},
   "outputs": [],
   "source": []
  }
 ],
 "metadata": {
  "kernelspec": {
   "display_name": "Python 3.8.2 ('yolov7': venv)",
   "language": "python",
   "name": "python3"
  },
  "language_info": {
   "codemirror_mode": {
    "name": "ipython",
    "version": 3
   },
   "file_extension": ".py",
   "mimetype": "text/x-python",
   "name": "python",
   "nbconvert_exporter": "python",
   "pygments_lexer": "ipython3",
   "version": "3.8.2"
  },
  "orig_nbformat": 4,
  "vscode": {
   "interpreter": {
    "hash": "be18fa0387b9e044e993bfa5df96968da249e0fe9cddfba1ab2c8a293f32eff2"
   }
  }
 },
 "nbformat": 4,
 "nbformat_minor": 2
}
